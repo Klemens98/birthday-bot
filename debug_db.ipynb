{
 "cells": [
  {
   "cell_type": "code",
   "execution_count": 6,
   "metadata": {},
   "outputs": [],
   "source": [
    "import psycopg2\n",
    "\n",
    "# Load configuration\n",
    "def load_config():\n",
    "    import yaml\n",
    "    with open('config.yaml', 'r') as file:\n",
    "        return yaml.safe_load(file)\n",
    "\n",
    "# Connect to the database\n",
    "config = load_config()\n",
    "db_config = config['DATABASE']\n",
    "conn = psycopg2.connect(\n",
    "    dbname=db_config['NAME'],\n",
    "    user=db_config['USER'],\n",
    "    password=db_config['PASSWORD'],\n",
    "    host=db_config['HOST'],\n",
    "    port=db_config['PORT']\n",
    ")\n",
    "\n",
    "# Create a cursor\n",
    "cur = conn.cursor()\n",
    "\n",
    "# Add the new column `dm_preference` if it doesn't exist\n",
    "cur.execute(\"\"\"\n",
    "    DO $$\n",
    "    BEGIN\n",
    "        IF NOT EXISTS (\n",
    "            SELECT 1\n",
    "            FROM information_schema.columns\n",
    "            WHERE table_name='birthdays' AND column_name='dm_preference'\n",
    "        ) THEN\n",
    "            ALTER TABLE birthdays ADD COLUMN dm_preference BOOLEAN DEFAULT FALSE;\n",
    "        END IF;\n",
    "    END $$;\n",
    "\"\"\")\n",
    "\n",
    "# Commit changes and close the connection\n",
    "conn.commit()\n",
    "cur.close()\n",
    "conn.close()"
   ]
  },
  {
   "cell_type": "markdown",
   "metadata": {},
   "source": [
    "# Database Management for Birthday Bot\n",
    "This notebook helps manage the database operations for the birthday bot."
   ]
  },
  {
   "cell_type": "code",
   "execution_count": 7,
   "metadata": {},
   "outputs": [],
   "source": [
    "import psycopg2\n",
    "import yaml\n",
    "\n",
    "def load_config():\n",
    "    with open('config.yaml', 'r') as file:\n",
    "        return yaml.safe_load(file)\n",
    "\n",
    "def get_db_connection():\n",
    "    config = load_config()\n",
    "    db_config = config['DATABASE']\n",
    "    return psycopg2.connect(\n",
    "        dbname=db_config['NAME'],\n",
    "        user=db_config['USER'],\n",
    "        password=db_config['PASSWORD'],\n",
    "        host=db_config['HOST'],\n",
    "        port=db_config['PORT']\n",
    "    )\n",
    "\n",
    "# Create a fresh connection\n",
    "conn = get_db_connection()"
   ]
  },
  {
   "cell_type": "markdown",
   "metadata": {},
   "source": [
    "## View current users and their DM preferences"
   ]
  },
  {
   "cell_type": "code",
   "execution_count": 10,
   "metadata": {},
   "outputs": [
    {
     "name": "stdout",
     "output_type": "stream",
     "text": [
      "Current users and their DM preferences:\n",
      "User: Abends, DM Preference: False\n",
      "User: Albarn, DM Preference: False\n",
      "User: AlexDieNase, DM Preference: False\n",
      "User: Altdolphin, DM Preference: False\n",
      "User: Bananu, DM Preference: False\n",
      "User: Bubbels, DM Preference: False\n",
      "User: Busten, DM Preference: False\n",
      "User: D.Lightman, DM Preference: False\n",
      "User: Dana, DM Preference: False\n",
      "User: Der Fiebich, DM Preference: False\n",
      "User: Error404, DM Preference: False\n",
      "User: Error404-StreamingAudio, DM Preference: False\n",
      "User: Falconslab, DM Preference: False\n",
      "User: Flo/ Kneder, DM Preference: False\n",
      "User: Frau Dr Bob, DM Preference: False\n",
      "User: Grufnax, DM Preference: False\n",
      "User: Hec, DM Preference: False\n",
      "User: Holländer, DM Preference: False\n",
      "User: Husky, DM Preference: False\n",
      "User: Jay, DM Preference: False\n",
      "User: Kasane, DM Preference: False\n",
      "User: Keeper34, DM Preference: False\n",
      "User: KnownAsMage, DM Preference: False\n",
      "User: Lasir, DM Preference: False\n",
      "User: Leviathuna, DM Preference: False\n",
      "User: Markus, DM Preference: False\n",
      "User: Moggio, DM Preference: False\n",
      "User: Morrl, DM Preference: False\n",
      "User: Mosch, DM Preference: False\n",
      "User: Nattatakon, DM Preference: False\n",
      "User: NietroMiner00, DM Preference: False\n",
      "User: Nordhamster, DM Preference: False\n",
      "User: Obsecrator, DM Preference: False\n",
      "User: Piccar, DM Preference: False\n",
      "User: Rainvan, DM Preference: False\n",
      "User: Realnerix, DM Preference: False\n",
      "User: Rhena, DM Preference: False\n",
      "User: Roya, DM Preference: False\n",
      "User: Rubenbuben, DM Preference: False\n",
      "User: Schlüsselweite 17, DM Preference: False\n",
      "User: SickSul, DM Preference: False\n",
      "User: SirJon, DM Preference: False\n",
      "User: Skorpi05, DM Preference: False\n",
      "User: SkullHun73r, DM Preference: False\n",
      "User: Solin, DM Preference: False\n",
      "User: Tabea, DM Preference: False\n",
      "User: TestUser, DM Preference: False\n",
      "User: TheInquisition, DM Preference: False\n",
      "User: TheMoJo27, DM Preference: False\n",
      "User: Tobias, DM Preference: False\n",
      "User: Tungdil_14, DM Preference: False\n",
      "User: Unc4nny, DM Preference: False\n",
      "User: WhizStudio, DM Preference: False\n",
      "User: Wombat, DM Preference: False\n",
      "User: Yamiyoka, DM Preference: False\n",
      "User: Zhynik, DM Preference: False\n",
      "User: hannah, DM Preference: False\n",
      "User: remyjoel, DM Preference: False\n",
      "User: test, DM Preference: False\n"
     ]
    }
   ],
   "source": [
    "try:\n",
    "    with conn:\n",
    "        with conn.cursor() as cur:\n",
    "            cur.execute(\"\"\"\n",
    "                SELECT user_id, username, birthday, dm_preference\n",
    "                FROM birthdays\n",
    "                ORDER BY username\n",
    "            \"\"\")\n",
    "            results = cur.fetchall()\n",
    "            \n",
    "            print(\"Current users and their DM preferences:\")\n",
    "            for row in results:\n",
    "                print(f\"User: {row[1]}, DM Preference: {row[3]}\")\n",
    "except Exception as e:\n",
    "    print(f\"Error: {e}\")\n",
    "    conn.rollback()  # Explicitly rollback on error\n",
    "    # Get a fresh connection if needed\n",
    "    conn = get_db_connection()"
   ]
  },
  {
   "cell_type": "markdown",
   "metadata": {},
   "source": [
    "## Initialize all DM preferences to False"
   ]
  },
  {
   "cell_type": "code",
   "execution_count": 11,
   "metadata": {},
   "outputs": [
    {
     "name": "stdout",
     "output_type": "stream",
     "text": [
      "0 users had their DM preferences initialized to False\n"
     ]
    }
   ],
   "source": [
    "try:\n",
    "    with conn:\n",
    "        with conn.cursor() as cur:\n",
    "            cur.execute(\"\"\"\n",
    "                UPDATE birthdays\n",
    "                SET dm_preference = FALSE\n",
    "                WHERE dm_preference IS NULL\n",
    "            \"\"\")\n",
    "            rows_updated = cur.rowcount\n",
    "            print(f\"{rows_updated} users had their DM preferences initialized to False\")\n",
    "except Exception as e:\n",
    "    print(f\"Error: {e}\")\n",
    "    conn.rollback()  # Explicitly rollback on error\n",
    "    conn = get_db_connection()"
   ]
  },
  {
   "cell_type": "markdown",
   "metadata": {},
   "source": [
    "## Verify the changes"
   ]
  },
  {
   "cell_type": "code",
   "execution_count": null,
   "metadata": {},
   "outputs": [],
   "source": [
    "try:\n",
    "    with conn:\n",
    ",\n",
    "                SELECT COUNT(*) as total,\n",
    "                       SUM(CASE WHEN dm_preference = TRUE THEN 1 ELSE 0 END) as dm_enabled,\n",
    "                       SUM(CASE WHEN dm_preference = FALSE THEN 1 ELSE 0 END) as dm_disabled\n",
    "                FROM birthdays\n",
    "            \"\"\")\n",
    "            stats = cur.fetchone()\n",
    "            \n",
    "            print(f\"Total users: {stats[0]}\")\n",
    "            print(f\"Users with DMs enabled: {stats[1]}\")\n",
    "            print(f\"Users with DMs disabled: {stats[2]}\")\n",
    "except Exception as e:\n",
    "    print(f\"Error: {e}\")\n",
    "    conn.rollback()  # Explicitly rollback on error\n",
    "    conn = get_db_connection()"
   ]
  },
  {
   "cell_type": "code",
   "execution_count": 12,
   "metadata": {},
   "outputs": [],
   "source": [
    "# Close the connection when done\n",
    "try:\n",
    "    conn.close()\n",
    "except:\n",
    "    pass  # Connection might already be closed"
   ]
  }
 ],
 "metadata": {
  "kernelspec": {
   "display_name": ".venv",
   "language": "python",
   "name": "python3"
  },
  "language_info": {
   "codemirror_mode": {
    "name": "ipython",
    "version": 3
   },
   "file_extension": ".py",
   "mimetype": "text/x-python",
   "name": "python",
   "nbconvert_exporter": "python",
   "pygments_lexer": "ipython3",
   "version": "3.13.2"
  }
 },
 "nbformat": 4,
 "nbformat_minor": 2
}
